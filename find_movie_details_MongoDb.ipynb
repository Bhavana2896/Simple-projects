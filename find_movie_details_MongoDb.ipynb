import pymongo
import datetime
import pandas as pd

def find_movies():

  connection=pymongo.MongoClient("mongodb://guvidm2:<yourpassword>@ac-phzdj1b-shard-00-00.m2i4fsw.mongodb.net:27017,ac-phzdj1b-shard-00-01.m2i4fsw.mongodb.net:27017,ac-phzdj1b-shard-00-02.m2i4fsw.mongodb.net:27017/?ssl=true&replicaSet=atlas-vmdwu3-shard-0&authSource=admin&retryWrites=true&w=majority")
  database=connection.sample_mflix
  collection=database.movies
  data=collection.find({"$and":[{"genres":{"$in":["Comedy","Horror","Romance"]}},{"imdb.rating":{"$gte":7}},{"tomatoes.viewer.rating":{"$gte":3.3}},{"awards.wins":{"$gte":1}},{"$or":[{"year":{"$gte":1950,"$lte":1960}},{"year":{"$gte":1990,"$lte":datetime.date.today().year}}]}]},{"title":1,"tomatoes.viewer.rating":1,"year":1,"imdb.rating":1,"_id":0})
  for i in data:
    #Movie=[i for i in data]
    #print(pd.DataFrame(Movie))
    print(i)

find_movies()
